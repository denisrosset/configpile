{
 "cells": [
  {
   "cell_type": "markdown",
   "metadata": {},
   "source": [
    "(concepts:overview)=\n",
    "# Overview of the process\n",
    "\n",
    "How is a configuration processed by `configpile`, for example when calling \n",
    "{meth}`~configpile.config.Config.from_command_line_`?\n",
    "\n",
    "1. First, the configuration class, which is a {func}`~dataclasses.dataclass` inheriting from\n",
    "   {class}`~configpile.config.Config` is inspected. All the dataclass fields should be annotated\n",
    "   with a {class}`~configpile.arg.Param` instance, see {ref}`concepts:params`. `configpile` makes\n",
    "   a list of triggers, for environment variables, INI files key/value pairs, and command-line\n",
    "   arguments.\n",
    "\n",
    "2. For each parameter, `configpile` prepares a list of values. If the parameter does not have a\n",
    "   default value, the list is initially empty. If the parameter has a default value, this value\n",
    "   is parsed (see {ref}`concepts:parsers`) and stored in the list.\n",
    "\n",
    "3. Then, `configpile` inspects environment variables. If any of the environment variables\n",
    "   corresponds to a parameter, the variable content is parsed and added to the list.\n",
    "\n",
    "   If any environment variable points to an INI file, the file is read, and for each\n",
    "   parameter key present in the INI file, the corresponding value is parsed and added to the list.\n",
    "\n",
    "4. After that, `configpile` processes command-line arguments. Some arguments will point to an INI\n",
    "   file: again, those files are parsed and the corresponding values added to the list of the\n",
    "   corresponding parameter. Some arguments provide parameter values directly: those values are\n",
    "   parsed and again added to the corresponding list.\n",
    "\n",
    "5. At this point, `configpile` may have failed to parse some of the strings, have had problems\n",
    "   reading a configuration file, or some values may have failed validation \n",
    "   (see {ref}`concepts:validation`). All these errors are collected and reported together to the\n",
    "user.\n",
    "\n",
    "6. If everything is fine, `configpile` looks at each parameter in turn. Now, each parameter\n",
    "   corresponds to a list of values. The question is how to process this list to populate the\n",
    "   configuration with a single value. This is the job of the \n",
    "   {class}`~configpile.collector.Collector`: the standard collectors provided by `configpile`\n",
    "   either append the values together (useful when collecting a list of files to process, for \n",
    "   example), or return the last value (useful when later parameter value override the values\n",
    "   provided previously). \n",
    "   \n",
    "   This process can eventually fail for some or all the parameters: for example, if a collector\n",
    "   needs to return the last value provided, and nothing was provided at all, it will error.\n",
    "   All the errors are collected together, in that case, and reported to the user.\n",
    "\n",
    "7. The next step is the construction of the configuration dataclass, with the computed parameter\n",
    "   values. After that, the validation methods of the configuration dataclass are called for the\n",
    "   final validation round, see {ref}`concepts:validation`. If everything works, the constructed\n",
    "   dataclass is returned.\n",
    "\n",
    "This whole process is short-circuited in a few cases.\n",
    "\n",
    "- By default, the command-line flags `-h` and `--help` display the usage information and exit the\n",
    "  program using {func}`sys.exit`.\n",
    "\n",
    "- In the future, we may support other special actions such as displaying the program version\n",
    "  using a `--version` flag for example.\n",
    "\n",
    "There are two static methods on {class}`~configpile.config.Config` that can be called to construct\n",
    "a configuration.\n",
    "\n",
    "- The {meth}`~configpile.config.Config.from_command_line_` method, in case of errors, displays\n",
    "  usage information and exits through {func}`sys.exit`.\n",
    "\n",
    "- The {meth}`~configpile.config.Config.parse_command_line_` method, always returns to the caller, \n",
    "  and returns either a constructed configuration dataclass, a token corresponding to a special\n",
    "  action (such as a command to display help information or the version number), or finally\n",
    "  a {class}`~configpile.userr.Err` error."
   ]
  },
  {
   "cell_type": "markdown",
   "metadata": {},
   "source": [
    "## Demonstrating the process\n",
    "\n",
    "Here is a simple configuration class, and we will make its construction fail at several points in\n",
    "the construction."
   ]
  },
  {
   "cell_type": "code",
   "execution_count": 1,
   "metadata": {},
   "outputs": [],
   "source": [
    "from configpile import *\n",
    "from dataclasses import dataclass\n",
    "from typing import Optional\n",
    "from typing_extensions import Annotated\n",
    "\n",
    "@dataclass(frozen=True)\n",
    "class TestConfig(Config):\n",
    "    \"\"\"\n",
    "    A superb program\n",
    "    \"\"\"\n",
    "\n",
    "    #: First parameter, must be greater than the second parameter\n",
    "    a: Annotated[int, Param.store(parsers.int_parser, short_flag_name='-a')]\n",
    "\n",
    "    #: Second parameter\n",
    "    b: Annotated[int, Param.store(parsers.int_parser, short_flag_name='-b')]\n",
    "\n",
    "    def validate_a_greater_than_b(self) -> Optional[Err]:\n",
    "        if not self.a > self.b:\n",
    "            return Err.make(f\"Parameter a={self.a} should be > than b={self.b}\")\n",
    "        return None\n"
   ]
  },
  {
   "cell_type": "markdown",
   "metadata": {},
   "source": [
    "### Parse errors\n",
    "\n",
    "Note that all parse errors are collected and reported. The rest of the construction process is\n",
    "not done."
   ]
  },
  {
   "cell_type": "code",
   "execution_count": 2,
   "metadata": {},
   "outputs": [
    {
     "data": {
      "text/plain": [
       "ManyErr(errs=[Err1(msg=\"Error 'invalid literal for int() with base 10: 'invalid'' in 'invalid'\", contexts=[('flag', '-a'), ('param', 'a')]), Err1(msg=\"Error 'invalid literal for int() with base 10: 'also_invalid'' in 'also_invalid'\", contexts=[('flag', '-b'), ('param', 'b')]), Err1(msg=\"Error 'invalid literal for int() with base 10: 'last_invalid'' in 'last_invalid'\", contexts=[('flag', '-a'), ('param', 'a')])])"
      ]
     },
     "execution_count": 2,
     "metadata": {},
     "output_type": "execute_result"
    }
   ],
   "source": [
    "res = TestConfig.parse_command_line_(args = ['-a', 'invalid', '-b','also_invalid', '-a', 'last_invalid'], env = {})\n",
    "res"
   ]
  },
  {
   "cell_type": "code",
   "execution_count": 3,
   "metadata": {},
   "outputs": [
    {
     "data": {
      "text/html": [
       "<pre style=\"white-space:pre;overflow-x:auto;line-height:normal;font-family:Menlo,'DejaVu Sans Mono',consolas,'Courier New',monospace\">\n",
       "<span style=\"color: #808000; text-decoration-color: #808000; font-weight: bold\"> • </span>In flag: -a                                                                               \n",
       "<span style=\"color: #808000; text-decoration-color: #808000; font-weight: bold\">    • </span>In param: a                                                                            \n",
       "<span style=\"color: #808000; text-decoration-color: #808000; font-weight: bold\">       0 </span><span style=\"color: #ffffff; text-decoration-color: #ffffff; background-color: #000000\">Error 'invalid literal for int() with base 10: 'invalid'' in 'invalid'</span>              \n",
       "<span style=\"color: #808000; text-decoration-color: #808000; font-weight: bold\">       1 </span><span style=\"color: #ffffff; text-decoration-color: #ffffff; background-color: #000000\">Error 'invalid literal for int() with base 10: 'last_invalid'' in 'last_invalid'</span>    \n",
       "\n",
       "<span style=\"color: #808000; text-decoration-color: #808000; font-weight: bold\"> 0 </span>In flag: -b                                                                               \n",
       "<span style=\"color: #808000; text-decoration-color: #808000; font-weight: bold\">   </span>In param: b                                                                               \n",
       "<span style=\"color: #808000; text-decoration-color: #808000; font-weight: bold\">   </span><span style=\"color: #ffffff; text-decoration-color: #ffffff; background-color: #000000\">Error 'invalid literal for int() with base 10: 'also_invalid'' in 'also_invalid'</span>          \n",
       "</pre>\n"
      ],
      "text/plain": [
       "\n",
       "\u001b[1;33m • \u001b[0mIn flag: -a                                                                               \n",
       "\u001b[1;33m   \u001b[0m\u001b[1;33m • \u001b[0mIn param: a                                                                            \n",
       "\u001b[1;33m   \u001b[0m\u001b[1;33m   \u001b[0m\u001b[1;33m 0 \u001b[0m\u001b[97;40mError 'invalid literal for int() with base 10: 'invalid'' in 'invalid'\u001b[0m              \n",
       "\u001b[1;33m   \u001b[0m\u001b[1;33m   \u001b[0m\u001b[1;33m 1 \u001b[0m\u001b[97;40mError 'invalid literal for int() with base 10: 'last_invalid'' in 'last_invalid'\u001b[0m    \n",
       "\n",
       "\u001b[1;33m 0 \u001b[0mIn flag: -b                                                                               \n",
       "\u001b[1;33m   \u001b[0mIn param: b                                                                               \n",
       "\u001b[1;33m   \u001b[0m\u001b[97;40mError 'invalid literal for int() with base 10: 'also_invalid'' in 'also_invalid'\u001b[0m          \n"
      ]
     },
     "metadata": {},
     "output_type": "display_data"
    }
   ],
   "source": [
    "res.pretty_print()"
   ]
  },
  {
   "cell_type": "markdown",
   "metadata": {},
   "source": [
    "### Collection errors\n",
    "\n",
    "Those errors happen during the collection process. Here, because of missing values."
   ]
  },
  {
   "cell_type": "code",
   "execution_count": 4,
   "metadata": {},
   "outputs": [
    {
     "data": {
      "text/plain": [
       "Err1(msg='Argument is required', contexts=[('param', 'b')])"
      ]
     },
     "execution_count": 4,
     "metadata": {},
     "output_type": "execute_result"
    }
   ],
   "source": [
    "res = TestConfig.parse_command_line_(args = ['-a', '2'], env = {})\n",
    "res"
   ]
  },
  {
   "cell_type": "code",
   "execution_count": 5,
   "metadata": {},
   "outputs": [
    {
     "data": {
      "text/html": [
       "<pre style=\"white-space:pre;overflow-x:auto;line-height:normal;font-family:Menlo,'DejaVu Sans Mono',consolas,'Courier New',monospace\">In param: b                                                                                  \n",
       "\n",
       "<span style=\"color: #ffffff; text-decoration-color: #ffffff; background-color: #000000\">Argument is required</span>                                                                         \n",
       "</pre>\n"
      ],
      "text/plain": [
       "In param: b                                                                                  \n",
       "\n",
       "\u001b[97;40mArgument is required\u001b[0m                                                                         \n"
      ]
     },
     "metadata": {},
     "output_type": "display_data"
    }
   ],
   "source": [
    "res.pretty_print()"
   ]
  },
  {
   "cell_type": "markdown",
   "metadata": {},
   "source": [
    "### Instance-level validation errors\n",
    "\n",
    "Those errors are reported in a last step, and will only be shown if the previous steps were\n",
    "completed successfully."
   ]
  },
  {
   "cell_type": "code",
   "execution_count": 6,
   "metadata": {},
   "outputs": [
    {
     "data": {
      "text/plain": [
       "Err1(msg='Parameter a=2 should be > than b=3', contexts=[])"
      ]
     },
     "execution_count": 6,
     "metadata": {},
     "output_type": "execute_result"
    }
   ],
   "source": [
    "res = TestConfig.parse_command_line_(args = ['-a', '2', '-b','3'], env = {})\n",
    "res"
   ]
  }
 ],
 "metadata": {
  "interpreter": {
   "hash": "8f30912e923a6c91d0bcaece9ec3dd94095a56fef041f6ae96f356e9f1af4c3e"
  },
  "kernelspec": {
   "display_name": "Python 3.8.10 ('.venv': poetry)",
   "language": "python",
   "name": "python3"
  },
  "language_info": {
   "codemirror_mode": {
    "name": "ipython",
    "version": 3
   },
   "file_extension": ".py",
   "mimetype": "text/x-python",
   "name": "python",
   "nbconvert_exporter": "python",
   "pygments_lexer": "ipython3",
   "version": "3.8.13"
  },
  "orig_nbformat": 4
 },
 "nbformat": 4,
 "nbformat_minor": 2
}
