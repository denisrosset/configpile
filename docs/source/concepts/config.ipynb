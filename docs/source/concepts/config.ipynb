{
 "cells": [
  {
   "cell_type": "markdown",
   "metadata": {},
   "source": [
    "(concepts:configurations)\n",
    "# Configurations\n",
    "\n",
    "Here we mention a few details that were not part of the {ref}`concepts:overview`."
   ]
  },
  {
   "cell_type": "markdown",
   "metadata": {},
   "source": [
    "## Help strings\n",
    "\n",
    "Descriptions are provided in two places: for the script itself, and for each parameter.\n",
    "Note that the parameter help strings are not parsed when the class is not constructed from a `.py`\n",
    "file, which is the case here (as this uses a Jupyter notebook). So we show the syntax below but\n",
    "do not demonstrate its use.\n",
    "\n",
    "Note that providing a docstring for the class is always recommended, as it seems\n",
    "{func}`dataclasses.dataclass` fills one up if missing."
   ]
  },
  {
   "cell_type": "code",
   "execution_count": 1,
   "metadata": {},
   "outputs": [],
   "source": [
    "from configpile import *\n",
    "from typing import ClassVar\n",
    "from typing_extensions import Annotated # or `from typing import Annotated` if Python >= 3.9\n",
    "from dataclasses import dataclass\n",
    "\n",
    "@dataclass(frozen=True)\n",
    "class TestConfig(Config):\n",
    "    \"\"\"\n",
    "    Docstring describing the program \n",
    "    \"\"\"\n",
    "\n",
    "    #: Sphinx autodoc-style comment (starting with #:) describing the parameter immediately below.\n",
    "    x: Annotated[int, Param.store(parsers.int_parser)]"
   ]
  },
  {
   "cell_type": "markdown",
   "metadata": {},
   "source": [
    "## Members of a {class}`~configpile.config.Config` subclass\n",
    "\n",
    "There are different kinds of members in a configuration:\n",
    "\n",
    "## Parameters\n",
    "\n",
    "They correspond to annotated field declarations, with the general syntax:\n",
    "\n",
    "```python\n",
    "   PARAM_NAME: Annotated[PARAM_TYPE, Param.PARAM_STATIC_METHOD(PARSER, EXTRA_OPTIONS)]\n",
    "```\n",
    "\n",
    "where\n",
    "- `PARAM_NAME` is the parameter name, cannot end with an underscore `_`,\n",
    "-  `PARAM_TYPE` is the Python type of the parameter,\n",
    "- `PARSER` is a parser instance (see {ref}`concepts:parsers`),\n",
    "- `EXTRA_OPTIONS` modify how `configpile` handles the processing.\n",
    "\n",
    "See {ref}concepts:params` for further details.\n",
    "\n",
    "## Arguments\n",
    "\n",
    "Argument declarations provide information to `configpile` about how to handle command line flags\n",
    "that do not correspond to parameters.\n",
    "\n",
    "For example, an {class}`configpile.arg.Expander` provides a key/value pair. They often go along\n",
    "with a proper parameter.\n",
    "\n",
    "Because the arguments are not fields that will be part of the dataclass (they do not store values\n",
    "themselves, but modify the processing), they need to be declared as class attributes using\n",
    "{data}`typing.ClassVar`. Here is a short example."
   ]
  },
  {
   "cell_type": "code",
   "execution_count": 2,
   "metadata": {},
   "outputs": [],
   "source": [
    "@dataclass(frozen=True)\n",
    "class ConfigWithBool(Config):\n",
    "\n",
    "    smoothing: Annotated[bool, Param.store(parsers.bool_parser)]\n",
    "\n",
    "    perform_smoothing: ClassVar[Expander] = Expander.make(\"--smoothing\", \"true\")\n",
    "    skip_smoothing: ClassVar[Expander] = Expander.make(\"--smoothing\", \"false\")"
   ]
  },
  {
   "cell_type": "code",
   "execution_count": 3,
   "metadata": {},
   "outputs": [
    {
     "data": {
      "text/plain": [
       "ConfigWithBool(smoothing=True)"
      ]
     },
     "execution_count": 3,
     "metadata": {},
     "output_type": "execute_result"
    }
   ],
   "source": [
    "ConfigWithBool.from_command_line_(args=[\"--perform-smoothing\"])"
   ]
  },
  {
   "cell_type": "code",
   "execution_count": 4,
   "metadata": {},
   "outputs": [
    {
     "data": {
      "text/plain": [
       "ConfigWithBool(smoothing=False)"
      ]
     },
     "execution_count": 4,
     "metadata": {},
     "output_type": "execute_result"
    }
   ],
   "source": [
    "ConfigWithBool.from_command_line_(args=[\"--skip-smoothing\"])"
   ]
  },
  {
   "cell_type": "markdown",
   "metadata": {},
   "source": [
    "## INI handling\n",
    "\n",
    "Sections in an INI file are parsed according to two modes:\n",
    "\n",
    "- the relaxed mode ignore keys that do not match known parameters,\n",
    "- the strict mode reports an error when a key is present that does not match a parameter.\n",
    "\n",
    "Only the section names that are specified in the {class}`~configpile.config.Config` instance\n",
    "through the {attr}`~configpile.config.Config.`\n",
    "By default, `configpile` parses the section named `common`, `COMMON` or `Common` in the relaxed\n",
    "mode."
   ]
  },
  {
   "cell_type": "markdown",
   "metadata": {},
   "source": [
    "### Example\n",
    "\n",
    "We present an example where the two behaviors are shown."
   ]
  },
  {
   "cell_type": "code",
   "execution_count": 5,
   "metadata": {},
   "outputs": [],
   "source": [
    "@dataclass(frozen=True)\n",
    "class ConfigWithCustomINI(Config):\n",
    "    ini_relaxed_sections_ = ['all']\n",
    "    ini_strict_sections_ = ['specific']\n",
    "\n",
    "    number: Annotated[int, Param.store(parsers.int_parser)]\n",
    "    word: Annotated[str, Param.store(parsers.stripped_str_parser)]\n"
   ]
  },
  {
   "cell_type": "code",
   "execution_count": 6,
   "metadata": {},
   "outputs": [
    {
     "data": {
      "text/plain": [
       "ConfigWithCustomINI(number=123, word='hello')"
      ]
     },
     "execution_count": 6,
     "metadata": {},
     "output_type": "execute_result"
    }
   ],
   "source": [
    "ConfigWithCustomINI.parse_ini_contents_(\"\"\"\n",
    "[all]\n",
    "number = 123\n",
    "extra_stuff = will_be_ignored\n",
    "\n",
    "[specific]\n",
    "word = hello\n",
    "\"\"\")"
   ]
  },
  {
   "cell_type": "code",
   "execution_count": 7,
   "metadata": {},
   "outputs": [
    {
     "data": {
      "text/plain": [
       "Err1(msg='Unknown key extra_stuff', contexts=[('ini_section', 'specific')])"
      ]
     },
     "execution_count": 7,
     "metadata": {},
     "output_type": "execute_result"
    }
   ],
   "source": [
    "ConfigWithCustomINI.parse_ini_contents_(\"\"\"\n",
    "[all]\n",
    "number = 123\n",
    "\n",
    "[specific]\n",
    "word = hello\n",
    "extra_stuff = not_ignored\n",
    "\n",
    "\"\"\")"
   ]
  },
  {
   "cell_type": "markdown",
   "metadata": {},
   "source": [
    "## Descriptions of the program\n",
    "\n",
    "Class attributes such as {attr}`~configpile.config.Config.prog_`, \n",
    "{attr}`~configpile.config.Config.description_`, methods such as\n",
    "{meth}`~configpile.config.Config.version_` provide information about your program that is\n",
    "mostly used for documentation/help purposes.\n",
    "\n",
    "Note that those attributes are typed using :data:`typing.ClassVar`, and thus they are not part of\n",
    "the dataclass fields; see \n",
    "[the dataclass help](https://docs.python.org/3/library/dataclasses.html#class-variables).\n",
    "\n",
    "## Ending names with underscores\n",
    "\n",
    "Note that the methods, fields and attributes designed for `configpile` use have an underscore `_`\n",
    "suffix. This is to avoid clashing with user-provided configuration fields that may use the same\n",
    "name.\n",
    "\n",
    "In your own {class}`~configpile.config.Config` subclasses, we suggest you follow the same naming\n",
    "scheme: underscore suffix for any class member which is not a configuration dataclass field."
   ]
  }
 ],
 "metadata": {
  "interpreter": {
   "hash": "8f30912e923a6c91d0bcaece9ec3dd94095a56fef041f6ae96f356e9f1af4c3e"
  },
  "kernelspec": {
   "display_name": "Python 3.8.10 ('.venv': poetry)",
   "language": "python",
   "name": "python3"
  },
  "language_info": {
   "codemirror_mode": {
    "name": "ipython",
    "version": 3
   },
   "file_extension": ".py",
   "mimetype": "text/x-python",
   "name": "python",
   "nbconvert_exporter": "python",
   "pygments_lexer": "ipython3",
   "version": "3.8.10"
  },
  "orig_nbformat": 4
 },
 "nbformat": 4,
 "nbformat_minor": 2
}
