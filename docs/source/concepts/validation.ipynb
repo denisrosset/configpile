{
 "cells": [
  {
   "cell_type": "markdown",
   "metadata": {},
   "source": [
    "(concepts:validation)=\n",
    "# Parameter and configuration validation\n",
    "\n",
    "The validation of a parameter value checks requirements that are not part of the parsing process\n",
    "itself. For example, we may require that a numerical parameter is within a certain range.\n",
    "\n",
    "There are two places where the validation may occur.\n",
    "\n",
    "- The validation may be done right after parsing, if the parameter value can be checked on its own.\n",
    "  This is the recommended place to perform validation, if at all possible. The validation function\n",
    "  is then tacked on to the parser.\n",
    "\n",
    "  More interestingly, errors about this kind of validation will be reported early in the processing\n",
    "  along with other parse errors. This is the most user-friendly option.\n",
    "\n",
    "- If the validation is about a *relationship* between parameter values, it must be done after the\n",
    "  configuration has been processed and constructed. The validation function needs to be a method\n",
    "  in the configuration subclass.\n",
    "\n",
    "We demonstrate the two options in the example below. "
   ]
  },
  {
   "cell_type": "code",
   "execution_count": 1,
   "metadata": {},
   "outputs": [],
   "source": [
    "from dataclasses import dataclass\n",
    "from configpile import *\n",
    "from typing_extensions import Annotated\n",
    "from typing import Optional\n",
    "\n",
    "\n",
    "def int_is_not_negative(x: int) -> bool:\n",
    "    return x >= 0\n",
    "\n",
    "@dataclass(frozen=True)\n",
    "class TestConfig(Config):\n",
    "\n",
    "    a: Annotated[int, Param.store(\n",
    "        parsers.int_parser.validated(int_is_not_negative, \"The value cannot be negative\")\n",
    "    )]\n",
    "    \n",
    "    b: Annotated[int, Param.store(\n",
    "        parsers.int_parser.validated(int_is_not_negative, \"The value cannot be negative\")\n",
    "        )]\n",
    "\n",
    "    def validate_a_is_greater_than_b(self) -> Optional[Err]:\n",
    "        if not self.a > self.b:\n",
    "            return Err.make(f\"The value a={self.a} needs to be greater than the value b={self.b}\")\n",
    "        else:\n",
    "            return None"
   ]
  },
  {
   "cell_type": "markdown",
   "metadata": {},
   "source": [
    "## Validation during parsing\n",
    "\n",
    "This example has the validation during parsing fail."
   ]
  },
  {
   "cell_type": "code",
   "execution_count": 2,
   "metadata": {},
   "outputs": [
    {
     "data": {
      "text/plain": [
       "ManyErr(errs=[Err1(msg='The value cannot be negative', contexts=[('flag', '--a'), ('param', 'a')]), Err1(msg='The value cannot be negative', contexts=[('flag', '--b'), ('param', 'b')])])"
      ]
     },
     "execution_count": 2,
     "metadata": {},
     "output_type": "execute_result"
    }
   ],
   "source": [
    "res = TestConfig.parse_command_line_(args=[\"--a\", \"-2\", \"--b\", \"-3\"])\n",
    "res"
   ]
  },
  {
   "cell_type": "code",
   "execution_count": 3,
   "metadata": {},
   "outputs": [
    {
     "data": {
      "text/html": [
       "<pre style=\"white-space:pre;overflow-x:auto;line-height:normal;font-family:Menlo,'DejaVu Sans Mono',consolas,'Courier New',monospace\">\n",
       "<span style=\"color: #808000; text-decoration-color: #808000; font-weight: bold\"> 0 </span>In flag: --a                                                                              \n",
       "<span style=\"color: #808000; text-decoration-color: #808000; font-weight: bold\">   </span>In param: a                                                                               \n",
       "<span style=\"color: #808000; text-decoration-color: #808000; font-weight: bold\">   </span><span style=\"color: #ffffff; text-decoration-color: #ffffff; background-color: #000000\">The value cannot be negative</span>                                                              \n",
       "<span style=\"color: #808000; text-decoration-color: #808000; font-weight: bold\"> 1 </span>In flag: --b                                                                              \n",
       "<span style=\"color: #808000; text-decoration-color: #808000; font-weight: bold\">   </span>In param: b                                                                               \n",
       "<span style=\"color: #808000; text-decoration-color: #808000; font-weight: bold\">   </span><span style=\"color: #ffffff; text-decoration-color: #ffffff; background-color: #000000\">The value cannot be negative</span>                                                              \n",
       "</pre>\n"
      ],
      "text/plain": [
       "\n",
       "\u001b[1;33m 0 \u001b[0mIn flag: --a                                                                              \n",
       "\u001b[1;33m   \u001b[0mIn param: a                                                                               \n",
       "\u001b[1;33m   \u001b[0m\u001b[97;40mThe value cannot be negative\u001b[0m                                                              \n",
       "\u001b[1;33m 1 \u001b[0mIn flag: --b                                                                              \n",
       "\u001b[1;33m   \u001b[0mIn param: b                                                                               \n",
       "\u001b[1;33m   \u001b[0m\u001b[97;40mThe value cannot be negative\u001b[0m                                                              \n"
      ]
     },
     "metadata": {},
     "output_type": "display_data"
    }
   ],
   "source": [
    "res.pretty_print()"
   ]
  },
  {
   "cell_type": "markdown",
   "metadata": {},
   "source": [
    "## Validation during construction\n",
    "\n",
    "This example has the validation post-construction fail."
   ]
  },
  {
   "cell_type": "code",
   "execution_count": 4,
   "metadata": {},
   "outputs": [
    {
     "data": {
      "text/plain": [
       "Err1(msg='The value a=2 needs to be greater than the value b=3', contexts=[])"
      ]
     },
     "execution_count": 4,
     "metadata": {},
     "output_type": "execute_result"
    }
   ],
   "source": [
    "res = TestConfig.parse_command_line_(args=[\"--a\", \"2\", \"--b\", \"3\"])\n",
    "res"
   ]
  },
  {
   "cell_type": "code",
   "execution_count": 5,
   "metadata": {},
   "outputs": [
    {
     "data": {
      "text/html": [
       "<pre style=\"white-space:pre;overflow-x:auto;line-height:normal;font-family:Menlo,'DejaVu Sans Mono',consolas,'Courier New',monospace\"><span style=\"color: #ffffff; text-decoration-color: #ffffff; background-color: #000000\">The value a=2 needs to be greater than the value b=3</span>                                         \n",
       "</pre>\n"
      ],
      "text/plain": [
       "\u001b[97;40mThe value a=2 needs to be greater than the value b=3\u001b[0m                                         \n"
      ]
     },
     "metadata": {},
     "output_type": "display_data"
    }
   ],
   "source": [
    "res.pretty_print()"
   ]
  }
 ],
 "metadata": {
  "interpreter": {
   "hash": "8f30912e923a6c91d0bcaece9ec3dd94095a56fef041f6ae96f356e9f1af4c3e"
  },
  "kernelspec": {
   "display_name": "Python 3.8.10 ('.venv': poetry)",
   "language": "python",
   "name": "python3"
  },
  "language_info": {
   "codemirror_mode": {
    "name": "ipython",
    "version": 3
   },
   "file_extension": ".py",
   "mimetype": "text/x-python",
   "name": "python",
   "nbconvert_exporter": "python",
   "pygments_lexer": "ipython3",
   "version": "3.8.10"
  },
  "orig_nbformat": 4
 },
 "nbformat": 4,
 "nbformat_minor": 2
}
