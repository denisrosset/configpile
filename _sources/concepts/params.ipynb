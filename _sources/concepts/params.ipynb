{
 "cells": [
  {
   "cell_type": "markdown",
   "metadata": {},
   "source": [
    "(concepts:params)=\n",
    "# Params (parameters)\n",
    "\n",
    "Parameters are what constitute a configuration. The values in a configuration dataclass are fields that are annotated with a {class}`~configpile.arg.Param` instance, using the {data}`typing.Annotated` type.\n",
    "\n",
    "(Note that the {data}`typing.Annotated` type needs to be imported from the \n",
    "[typing_extensions](https://github.com/python/typing/blob/master/typing_extensions/README.rst)\n",
    "package instead if one is not using Python >= 3.9).\n",
    "\n",
    "{class}`~configpile.arg.Param` is modeled after the [add_argument](https://docs.python.org/3/library/argparse.html#the-add-argument-method) method in the [argparse](https://docs.python.org/3/library/argparse.html) standard library module.\n",
    "\n",
    "## How parameters handle their values\n",
    "\n",
    "First, you need to decide how your parameter is going to behave when fed with multiple values.\n",
    "\n",
    "If you construct the parameter with the {meth}`~configpile.arg.Param.store` static method, the\n",
    "parameter value will be the last value provided. See {ref}`concepts:overview` for the standard\n",
    "order of processing.\n",
    "\n",
    "If you construct the parameter with the {meth}`~configpile.arg.Param.append1` static method, you\n",
    "provide a parser (see {ref}`concepts:parsers`) that parses single values, and the provided values\n",
    "are all appended in a sequence.\n",
    "\n",
    "If you construct the parameter with the {meth}`~configpile.arg.Param.append` static method, you\n",
    "provide a parser that parses a sequence of values (for example, comma-separated), and the\n",
    "parameter value with correspond to all the provided sequences, joined together.\n",
    "\n",
    "Finally, the special construction provided by {meth}`configpile.arg.Param.config` handles\n",
    "INI configuration files. Here, not only the INI file paths are returned in a parameter, but\n",
    "each time an INI file is provided, the files are parsed so that their content can influence the\n",
    "configuration.\n",
    "\n",
    "Here is an example."
   ]
  },
  {
   "cell_type": "code",
   "execution_count": 14,
   "metadata": {},
   "outputs": [],
   "source": [
    "from configpile import *\n",
    "from typing import Sequence\n",
    "from pathlib import Path\n",
    "from typing_extensions import Annotated # or `from typing import Annotated` if Python >= 3.9\n",
    "from dataclasses import dataclass\n",
    "\n",
    "@dataclass(frozen=True)\n",
    "class HandlingValues(Config):\n",
    "    \"\"\"\n",
    "    Empty description\n",
    "    \"\"\"\n",
    "\n",
    "    #: Here is a parameter with a single value\n",
    "    radius: Annotated[float, Param.store(parsers.float_parser)]\n",
    "\n",
    "    #: Here is a parameter that accumulates\n",
    "    files: Annotated[Sequence[Path], Param.append1(parsers.path_parser)]"
   ]
  },
  {
   "cell_type": "code",
   "execution_count": 15,
   "metadata": {},
   "outputs": [
    {
     "data": {
      "text/plain": [
       "HandlingValues(radius=0.2, files=[PosixPath('input1.dat'), PosixPath('input2.dat'), PosixPath('input3.dat')])"
      ]
     },
     "execution_count": 15,
     "metadata": {},
     "output_type": "execute_result"
    }
   ],
   "source": [
    "HandlingValues.from_command_line_(args=['--radius', '0.1', '--files', 'input1.dat', '--files',\n",
    "    'input2.dat', '--radius', '0.2', '--files', 'input3.dat'])"
   ]
  },
  {
   "cell_type": "markdown",
   "metadata": {},
   "source": [
    "## How parameters are described (help)\n",
    "\n",
    "Normally, parameters are described using a `#:` Sphinx autodoc-style comment.\n",
    "\n",
    "One can override this behavior by specifying a `help` keyword argument.\n",
    "\n",
    "In particular, `configpile` cannot retrieve autodoc-style comments when the class is not defined\n",
    "in a regular `.py` file. See example below, where the `radius` help string is not recognized\n",
    "because we are in a Jupyter notebook."
   ]
  },
  {
   "cell_type": "code",
   "execution_count": 16,
   "metadata": {},
   "outputs": [],
   "source": [
    "from typing import ClassVar\n",
    "\n",
    "@dataclass(frozen=True)\n",
    "class Description(Config):\n",
    "    \"\"\"\n",
    "    Example of handling parameter help\n",
    "    \"\"\"\n",
    "\n",
    "\n",
    "    #: Here is a parameter with a single value\n",
    "    radius: Annotated[float, Param.store(parsers.float_parser)]\n",
    "\n",
    "    files: Annotated[Sequence[Path], Param.append1(parsers.path_parser, \n",
    "        help=\"Here is a parameter that accumulates\")]\n",
    "    prog_: ClassVar[str] = \"Description\""
   ]
  },
  {
   "cell_type": "code",
   "execution_count": 17,
   "metadata": {},
   "outputs": [
    {
     "name": "stdout",
     "output_type": "stream",
     "text": [
      "usage: Description [--radius RADIUS] [--files FILES]\n",
      "\n",
      "    Example of handling parameter help\n",
      "    \n",
      "\n",
      "optional arguments:\n",
      "  --files FILES    Here is a parameter that accumulates\n",
      "\n",
      "required arguments:\n",
      "  --radius RADIUS\n"
     ]
    }
   ],
   "source": [
    "Description.get_argument_parser_().print_help()"
   ]
  },
  {
   "cell_type": "markdown",
   "metadata": {},
   "source": [
    "## Where parameter values are taken\n",
    "\n",
    "Parameter values can come from:\n",
    "\n",
    "- environment variables, if `env_var_name` is set (it is not, by default),\n",
    "- INI configuration files, if `config_key_name` \n",
    "  (it is set to {attr}`~configpile.arg.Derive.KEBAB_CASE`, by default)\n",
    "- command-line arguments, after a long flag (i.e. `--flag`), \n",
    "  if `long_flag_name is set (it is set to {attr}`~configpile.arg.Derive.KEBAB_CASE`, by default)\n",
    "- command-line arguments, after a short flag (i.e. `-f`), if `short_flag_name` is set (it is \n",
    "  not, by default),\n",
    "- positional command-line arguments, if `positional` is not {data}`None` (it is {data}`None` by\n",
    "  default).\n",
    "\n",
    "### Environment variables\n",
    "\n",
    "Here we demonstrate how to fill the `radius` and `shift` parameters using environment variables."
   ]
  },
  {
   "cell_type": "code",
   "execution_count": 18,
   "metadata": {},
   "outputs": [],
   "source": [
    "@dataclass(frozen=True)\n",
    "class EnvVarDemo(Config):\n",
    "    env_prefix_ = \"DEMO_\"\n",
    "\n",
    "    radius: Annotated[float, Param.store(parsers.float_parser, \n",
    "        env_var_name=Derived.SNAKE_CASE_UPPER_CASE)]\n",
    "\n",
    "    shift: Annotated[float, Param.store(parsers.float_parser, env_var_name=\"SHIFT\")]\n",
    "\n",
    "    scale: Annotated[float, Param.store(parsers.float_parser, \n",
    "        env_var_name=None)] # or leave env_var_name out as None is the default"
   ]
  },
  {
   "cell_type": "code",
   "execution_count": 19,
   "metadata": {},
   "outputs": [
    {
     "data": {
      "text/plain": [
       "dict_keys(['DEMO_RADIUS', 'SHIFT'])"
      ]
     },
     "execution_count": 19,
     "metadata": {},
     "output_type": "execute_result"
    }
   ],
   "source": [
    "EnvVarDemo.processor_().env_handlers.keys()"
   ]
  },
  {
   "cell_type": "code",
   "execution_count": 20,
   "metadata": {},
   "outputs": [
    {
     "data": {
      "text/plain": [
       "EnvVarDemo(radius=0.7, shift=0.5, scale=0.3)"
      ]
     },
     "execution_count": 20,
     "metadata": {},
     "output_type": "execute_result"
    }
   ],
   "source": [
    "EnvVarDemo.parse_command_line_(args=[\"--scale\", \"0.3\"], env ={\"SHIFT\": \"0.5\", \"DEMO_RADIUS\": \"0.7\"})"
   ]
  },
  {
   "cell_type": "markdown",
   "metadata": {},
   "source": [
    "### INI configuration files\n",
    "\n",
    "Here is an example. The `config_key_name` keyword argument can be set to {data}`None` to forbid its\n",
    "presence in INI files. This part is not demonstrated below. "
   ]
  },
  {
   "cell_type": "code",
   "execution_count": 21,
   "metadata": {},
   "outputs": [],
   "source": [
    "@dataclass(frozen=True)\n",
    "class INIDemo(Config):\n",
    "\n",
    "    radius: Annotated[float, Param.store(parsers.float_parser, config_key_name=\"rad\")]\n",
    "\n",
    "    shift: Annotated[float, Param.store(parsers.float_parser,\n",
    "        config_key_name=Derived.KEBAB_CASE)] # or leave config_key_name out as this is the default"
   ]
  },
  {
   "cell_type": "code",
   "execution_count": 22,
   "metadata": {},
   "outputs": [
    {
     "data": {
      "text/plain": [
       "INIDemo(radius=0.3, shift=0.5)"
      ]
     },
     "execution_count": 22,
     "metadata": {},
     "output_type": "execute_result"
    }
   ],
   "source": [
    "INIDemo.parse_ini_contents_(\"\"\"\n",
    "[common]\n",
    "rad = 0.3\n",
    "shift = 0.5\n",
    "\"\"\")"
   ]
  },
  {
   "cell_type": "markdown",
   "metadata": {},
   "source": [
    "### Command-line arguments using flags\n",
    "\n",
    "Command-line argument, by default, are triggered by a long-style flag starting with two hyphens,\n",
    "followed by the argument name in kebab-case (example: `--radius`). The short flag variant is\n",
    "disabled by default (example: `-R`)."
   ]
  },
  {
   "cell_type": "code",
   "execution_count": 23,
   "metadata": {},
   "outputs": [],
   "source": [
    "@dataclass(frozen=True)\n",
    "class FlagDemo(Config):\n",
    "    env_prefix_ = \"DEMO_\"\n",
    "\n",
    "    radius: Annotated[float, Param.store(parsers.float_parser, short_flag_name='-R',\n",
    "        long_flag_name=None)]\n",
    "\n",
    "    shift: Annotated[float, Param.store(parsers.float_parser)]\n",
    "\n",
    "    scale: Annotated[float, Param.store(parsers.float_parser,\n",
    "        long_flag_name = Derived.KEBAB_CASE)] # or long_flag_name out as this is the default"
   ]
  },
  {
   "cell_type": "code",
   "execution_count": 24,
   "metadata": {},
   "outputs": [
    {
     "data": {
      "text/plain": [
       "dict_keys(['-R', '--shift', '--scale', '-h', '--help'])"
      ]
     },
     "execution_count": 24,
     "metadata": {},
     "output_type": "execute_result"
    }
   ],
   "source": [
    "FlagDemo.processor_().cl_handler.flags.keys()"
   ]
  },
  {
   "cell_type": "markdown",
   "metadata": {},
   "source": [
    "### Positional arguments\n",
    "\n",
    "Positional arguments are command-line arguments that are not prefixed by a `--flag` or `-f` short\n",
    "flag.\n",
    "\n",
    "There can be more than one positional argument present. They are filled in order by the command-line\n",
    "strings that are *not* recognized as flags for other parameters.\n",
    "\n",
    "Their order is given by the order of declaration in the dataclass.\n",
    "\n",
    "We advise setting `long_flag_name` to {data}`None` as using a parameter both in a positional manner\n",
    "and with flags can lead to counter-intuitive behavior."
   ]
  },
  {
   "cell_type": "code",
   "execution_count": 25,
   "metadata": {},
   "outputs": [],
   "source": [
    "@dataclass(frozen=True)\n",
    "class PositionalDemo(Config):\n",
    "    shift: Annotated[float, Param.store(parsers.float_parser, positional=Positional.ONCE, \n",
    "        long_flag_name=None)]\n",
    "    radii: Annotated[Sequence[float], Param.append1(parsers.float_parser, \n",
    "        positional=Positional.ONE_OR_MORE, long_flag_name=None)]"
   ]
  },
  {
   "cell_type": "code",
   "execution_count": 26,
   "metadata": {},
   "outputs": [
    {
     "data": {
      "text/plain": [
       "PositionalDemo(shift=1.0, radii=[0.2, 0.4])"
      ]
     },
     "execution_count": 26,
     "metadata": {},
     "output_type": "execute_result"
    }
   ],
   "source": [
    "PositionalDemo.from_command_line_(args=[\"1.0\", \"0.2\", \"0.4\"])"
   ]
  }
 ],
 "metadata": {
  "interpreter": {
   "hash": "8f30912e923a6c91d0bcaece9ec3dd94095a56fef041f6ae96f356e9f1af4c3e"
  },
  "kernelspec": {
   "display_name": "Python 3.8.10 ('.venv': poetry)",
   "language": "python",
   "name": "python3"
  },
  "language_info": {
   "codemirror_mode": {
    "name": "ipython",
    "version": 3
   },
   "file_extension": ".py",
   "mimetype": "text/x-python",
   "name": "python",
   "nbconvert_exporter": "python",
   "pygments_lexer": "ipython3",
   "version": "3.8.10"
  },
  "orig_nbformat": 4
 },
 "nbformat": 4,
 "nbformat_minor": 2
}
