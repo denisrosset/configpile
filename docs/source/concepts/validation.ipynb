{
 "cells": [
  {
   "cell_type": "markdown",
   "metadata": {},
   "source": [
    "# Parameter and configuration validation"
   ]
  }
 ],
 "metadata": {
  "interpreter": {
   "hash": "8f30912e923a6c91d0bcaece9ec3dd94095a56fef041f6ae96f356e9f1af4c3e"
  },
  "kernelspec": {
   "display_name": "Python 3.8.10 ('.venv': poetry)",
   "language": "python",
   "name": "python3"
  },
  "language_info": {
   "name": "python",
   "version": "3.8.10"
  },
  "orig_nbformat": 4
 },
 "nbformat": 4,
 "nbformat_minor": 2
}
