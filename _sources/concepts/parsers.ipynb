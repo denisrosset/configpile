{
 "cells": [
  {
   "cell_type": "markdown",
   "metadata": {},
   "source": [
    "(concepts:parsers)=\n",
    "# Parsers\n",
    "\n",
    "Parsers convert strings to values. To create a parser for a new type, you can simply subclass\n",
    "the {class}`configpile.parsers.Parser` class, not forgetting that this class takes a type\n",
    "parameter corresponding to the type of the value it parses."
   ]
  },
  {
   "cell_type": "code",
   "execution_count": 1,
   "metadata": {},
   "outputs": [],
   "source": [
    "from configpile import *\n",
    "\n",
    "class FloatParser(Parser[float]):\n",
    "    def parse(self, arg: str) -> Res[float]:\n",
    "        try:\n",
    "            return float(arg)\n",
    "        except ValueError as e:\n",
    "            return Err.make(str(e))\n",
    "\n",
    "fp = FloatParser()\n"
   ]
  },
  {
   "cell_type": "code",
   "execution_count": 2,
   "metadata": {},
   "outputs": [
    {
     "data": {
      "text/plain": [
       "2.0"
      ]
     },
     "execution_count": 2,
     "metadata": {},
     "output_type": "execute_result"
    }
   ],
   "source": [
    "fp.parse(\"2\")"
   ]
  },
  {
   "cell_type": "code",
   "execution_count": 3,
   "metadata": {},
   "outputs": [
    {
     "data": {
      "text/plain": [
       "Err1(msg=\"could not convert string to float: 'invalid'\", contexts=[])"
      ]
     },
     "execution_count": 3,
     "metadata": {},
     "output_type": "execute_result"
    }
   ],
   "source": [
    "fp.parse(\"invalid\")"
   ]
  },
  {
   "cell_type": "markdown",
   "metadata": {},
   "source": [
    "## Parser construction\n",
    "\n",
    "A parser can also be constructed in several ways."
   ]
  },
  {
   "cell_type": "markdown",
   "metadata": {},
   "source": [
    "### From multiple (string) choices\n",
    "\n",
    "If the multiple choices are strings, use {meth}`~configpile.parsers.Parser.from_choices`. In\n",
    "particular, one can force lower or upper case (which we do here)."
   ]
  },
  {
   "cell_type": "code",
   "execution_count": 4,
   "metadata": {},
   "outputs": [
    {
     "data": {
      "text/plain": [
       "Err1(msg='Value yellow not in choices red,green,blue', contexts=[])"
      ]
     },
     "execution_count": 4,
     "metadata": {},
     "output_type": "execute_result"
    }
   ],
   "source": [
    "cp = Parser.from_choices([\"red\", \"green\", \"blue\"], force_case= ForceCase.LOWER)\n",
    "\n",
    "cp.parse(\"yellow\")"
   ]
  },
  {
   "cell_type": "code",
   "execution_count": 5,
   "metadata": {},
   "outputs": [
    {
     "data": {
      "text/plain": [
       "'blue'"
      ]
     },
     "execution_count": 5,
     "metadata": {},
     "output_type": "execute_result"
    }
   ],
   "source": [
    "cp.parse(\"blue\")"
   ]
  },
  {
   "cell_type": "markdown",
   "metadata": {},
   "source": [
    "### From multiple choices corresponding to values\n",
    "\n",
    "When the strings correspond to values, use {meth}`~configpile.parsers.Parser.from_mapping`.\n",
    "The ``aliases`` are alternate strings, they are accepted during the parse but not showed in the\n",
    "usage description."
   ]
  },
  {
   "cell_type": "code",
   "execution_count": 6,
   "metadata": {},
   "outputs": [],
   "source": [
    "bp = Parser.from_mapping({\"true\": True, \"false\": False},force_case=ForceCase.LOWER, aliases={\"0\": False, \"1\": True})"
   ]
  },
  {
   "cell_type": "markdown",
   "metadata": {},
   "source": [
    "### From functions that raise exceptions\n",
    "\n",
    "In this case, the exceptions will be converted to {class}`configpile.userr.Err` instances; \n",
    "one can specify which exceptions should be caught, and the rest will be propagated.\n",
    "\n",
    "The static method {meth}`~configpile.parsers.Parser.from_function_that_raises` is useful for Python\n",
    "code coming from standard or external libraries."
   ]
  },
  {
   "cell_type": "code",
   "execution_count": 7,
   "metadata": {},
   "outputs": [],
   "source": [
    "fp1 = Parser.from_function_that_raises(float, ValueError)"
   ]
  },
  {
   "cell_type": "code",
   "execution_count": 8,
   "metadata": {},
   "outputs": [
    {
     "data": {
      "text/plain": [
       "2.0"
      ]
     },
     "execution_count": 8,
     "metadata": {},
     "output_type": "execute_result"
    }
   ],
   "source": [
    "fp1.parse(\"2\")"
   ]
  },
  {
   "cell_type": "code",
   "execution_count": 9,
   "metadata": {},
   "outputs": [
    {
     "data": {
      "text/plain": [
       "Err1(msg=\"Error 'could not convert string to float: 'invalid'' in 'invalid'\", contexts=[])"
      ]
     },
     "execution_count": 9,
     "metadata": {},
     "output_type": "execute_result"
    }
   ],
   "source": [
    "fp1.parse(\"invalid\")"
   ]
  },
  {
   "cell_type": "markdown",
   "metadata": {},
   "source": [
    "### From functions that return a result\n",
    "\n",
    "One does not need the big ceremonial of constructing a {class}`configpile.parsers.Parser` instance\n",
    "as only one method needs to be implemented.\n",
    "\n",
    "The static method {meth}`configpile.parsers.Parser.from_function` is useful for functions that\n",
    "you will implement yourself: those functions take a string and return a \n",
    "{data}`configpile.userr.Res`, as discussed in {ref}`concepts:errors`."
   ]
  },
  {
   "cell_type": "code",
   "execution_count": 10,
   "metadata": {},
   "outputs": [],
   "source": [
    "def parse_fun(arg: str) -> Res[float]:\n",
    "    try:\n",
    "        return float(arg)\n",
    "    except ValueError as e:\n",
    "        return Err.make(str(e))\n",
    "\n",
    "fp2 = Parser.from_function(parse_fun)"
   ]
  },
  {
   "cell_type": "code",
   "execution_count": 11,
   "metadata": {},
   "outputs": [
    {
     "data": {
      "text/plain": [
       "2.0"
      ]
     },
     "execution_count": 11,
     "metadata": {},
     "output_type": "execute_result"
    }
   ],
   "source": [
    "fp2.parse(\"2\")"
   ]
  },
  {
   "cell_type": "code",
   "execution_count": 12,
   "metadata": {},
   "outputs": [
    {
     "data": {
      "text/plain": [
       "Err1(msg=\"could not convert string to float: 'invalid'\", contexts=[])"
      ]
     },
     "execution_count": 12,
     "metadata": {},
     "output_type": "execute_result"
    }
   ],
   "source": [
    "fp2.parse(\"invalid\")"
   ]
  },
  {
   "cell_type": "markdown",
   "metadata": {},
   "source": [
    "### From [parsy](https://github.com/python-parsy/parsy) parsers\n",
    "\n",
    "`parsy` is a parser combinator library, useful to parse more involved expressions.\n",
    "\n",
    "Here is how you would use this library. Note that `configpile` has `parsy` as an optional\n",
    "dependency, so that every `configpile` user is not forced to have `parsy` as a dependency.\n",
    "\n",
    "Note that `parsy` does not support [type hints](https://peps.python.org/pep-0484/), so one needs\n",
    "to provide the type as a first argument to {meth}`~configpile.parsers.Parser.from_parsy_parser`."
   ]
  },
  {
   "cell_type": "code",
   "execution_count": 13,
   "metadata": {},
   "outputs": [
    {
     "data": {
      "text/plain": [
       "1234"
      ]
     },
     "execution_count": 13,
     "metadata": {},
     "output_type": "execute_result"
    }
   ],
   "source": [
    "import parsy\n",
    "int_parsy_parser = parsy.regex('[0-9]+').map(int)\n",
    "ip: Parser[int] = Parser.from_parsy_parser(int_parsy_parser)\n",
    "ip.parse(\"1234\")"
   ]
  },
  {
   "cell_type": "markdown",
   "metadata": {},
   "source": [
    "## Parser manipulation\n",
    "\n",
    "Parsers can be adapted as to change their return value, or even modify the parsing behavior."
   ]
  },
  {
   "cell_type": "markdown",
   "metadata": {},
   "source": [
    "### Handling optional parameters\n",
    "\n",
    "Here, we mean optional in the sense of possibly having a {data}`None` value. We take, for example,\n",
    "our {class}`float` parser, and make it optional."
   ]
  },
  {
   "cell_type": "code",
   "execution_count": 14,
   "metadata": {},
   "outputs": [
    {
     "data": {
      "text/plain": [
       "True"
      ]
     },
     "execution_count": 14,
     "metadata": {},
     "output_type": "execute_result"
    }
   ],
   "source": [
    "from typing import Optional\n",
    "fp_opt: Parser[Optional[float]] = fp.empty_means_none()\n",
    "\n",
    "fp_opt.parse(\"\") is None"
   ]
  },
  {
   "cell_type": "code",
   "execution_count": 15,
   "metadata": {},
   "outputs": [
    {
     "data": {
      "text/plain": [
       "3.14"
      ]
     },
     "execution_count": 15,
     "metadata": {},
     "output_type": "execute_result"
    }
   ],
   "source": [
    "fp_opt.parse(\"3.14\")"
   ]
  },
  {
   "cell_type": "markdown",
   "metadata": {},
   "source": [
    "### Handling sequences\n",
    "\n",
    "One can parse sequences of values. Note that the pattern we show below is very crude, and\n",
    "appropriate only when the separator is never part of the strings representing the values."
   ]
  },
  {
   "cell_type": "code",
   "execution_count": 16,
   "metadata": {},
   "outputs": [
    {
     "data": {
      "text/plain": [
       "[1.0, 2.0, 3.0, 4.0]"
      ]
     },
     "execution_count": 16,
     "metadata": {},
     "output_type": "execute_result"
    }
   ],
   "source": [
    "fp_seq = fp.separated_by(\",\")\n",
    "fp_seq.parse(\"1,2,3,4\")"
   ]
  },
  {
   "cell_type": "markdown",
   "metadata": {},
   "source": [
    "### Transforming the parser output\n",
    "\n",
    "One can map the result of a parser through a function."
   ]
  },
  {
   "cell_type": "code",
   "execution_count": 17,
   "metadata": {},
   "outputs": [
    {
     "data": {
      "text/plain": [
       "1"
      ]
     },
     "execution_count": 17,
     "metadata": {},
     "output_type": "execute_result"
    }
   ],
   "source": [
    "rounded_fp: Parser[int] = fp.map(int)\n",
    "rounded_fp.parse(\"1.23\")"
   ]
  },
  {
   "cell_type": "markdown",
   "metadata": {},
   "source": [
    "## Validation\n",
    "\n",
    "See {ref}`concepts:validation`."
   ]
  }
 ],
 "metadata": {
  "interpreter": {
   "hash": "8f30912e923a6c91d0bcaece9ec3dd94095a56fef041f6ae96f356e9f1af4c3e"
  },
  "kernelspec": {
   "display_name": "Python 3.8.10 ('.venv': poetry)",
   "language": "python",
   "name": "python3"
  },
  "language_info": {
   "codemirror_mode": {
    "name": "ipython",
    "version": 3
   },
   "file_extension": ".py",
   "mimetype": "text/x-python",
   "name": "python",
   "nbconvert_exporter": "python",
   "pygments_lexer": "ipython3",
   "version": "3.8.10"
  },
  "orig_nbformat": 4
 },
 "nbformat": 4,
 "nbformat_minor": 2
}
