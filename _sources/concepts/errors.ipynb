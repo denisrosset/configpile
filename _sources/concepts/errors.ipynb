{
 "cells": [
  {
   "cell_type": "markdown",
   "metadata": {},
   "source": [
    "(concepts:errors)=\n",
    "# Error handling in ``configpile``\n",
    "\n",
    "The goal behind ``configpile`` error reporting is to provide helpful error messages to the user. In\n",
    "particular:\n",
    "\n",
    "- ``configpile`` does not rely on Python exceptions, rather implements its own error class\n",
    "\n",
    "- The error class is designed to be used in a \n",
    "  [result type](https://en.wikipedia.org/wiki/Result_type) that follows existing Python usage\n",
    "  patterns. (To be pedantic, it is not monadic.)\n",
    "\n",
    "- ``configpile`` accumulate errors instead of stopping at the first error\n",
    "\n",
    "- Instead of relying on stack traces to convey contextual information, ``configpile`` errors\n",
    "  store context information that is manually added when results are processed."
   ]
  },
  {
   "cell_type": "markdown",
   "metadata": {},
   "source": [
    "## Errors\n",
    "\n",
    "The base error type is `Err`, which contains either a single error or a sequence of errors.\n",
    "\n",
    "A single error is constructed through the {meth}`~configpile.userr.Err.make` static method.\n",
    "\n",
    "Errors can be pretty-printed. If the [Rich](https://github.com/Textualize/rich) library is available, some light formatting will be applied."
   ]
  },
  {
   "cell_type": "code",
   "execution_count": 1,
   "metadata": {},
   "outputs": [
    {
     "data": {
      "text/html": [
       "<pre style=\"white-space:pre;overflow-x:auto;line-height:normal;font-family:Menlo,'DejaVu Sans Mono',consolas,'Courier New',monospace\">In other_info: blub                                                                          \n",
       "\n",
       "In context_info: 1                                                                           \n",
       "\n",
       "<span style=\"color: #ffffff; text-decoration-color: #ffffff; background-color: #000000\">First error</span>                                                                                  \n",
       "</pre>\n"
      ],
      "text/plain": [
       "In other_info: blub                                                                          \n",
       "\n",
       "In context_info: 1                                                                           \n",
       "\n",
       "\u001b[97;40mFirst error\u001b[0m                                                                                  \n"
      ]
     },
     "metadata": {},
     "output_type": "display_data"
    }
   ],
   "source": [
    "from configpile import Err\n",
    "e1 = Err.make(\"First error\", context_info = 1, other_info = \"bla\")\n",
    "e1.pretty_print()"
   ]
  },
  {
   "cell_type": "markdown",
   "metadata": {},
   "source": [
    "Errors can be collected in a single {class}`~configpile.userr.Err` instance, and pretty-printing will collect errors occurring in the same context."
   ]
  },
  {
   "cell_type": "code",
   "execution_count": 2,
   "metadata": {},
   "outputs": [
    {
     "data": {
      "text/html": [
       "<pre style=\"white-space:pre;overflow-x:auto;line-height:normal;font-family:Menlo,'DejaVu Sans Mono',consolas,'Courier New',monospace\">\n",
       "<span style=\"color: #808000; text-decoration-color: #808000; font-weight: bold\"> • </span>In context_info: 1                                                                        \n",
       "<span style=\"color: #808000; text-decoration-color: #808000; font-weight: bold\">    0 </span>In other_info: blub                                                                    \n",
       "<span style=\"color: #808000; text-decoration-color: #808000; font-weight: bold\">      </span><span style=\"color: #ffffff; text-decoration-color: #ffffff; background-color: #000000\">First error</span>                                                                            \n",
       "<span style=\"color: #808000; text-decoration-color: #808000; font-weight: bold\">    1 </span><span style=\"color: #ffffff; text-decoration-color: #ffffff; background-color: #000000\">Second error</span>                                                                           \n",
       "</pre>\n"
      ],
      "text/plain": [
       "\n",
       "\u001b[1;33m • \u001b[0mIn context_info: 1                                                                        \n",
       "\u001b[1;33m   \u001b[0m\u001b[1;33m 0 \u001b[0mIn other_info: blub                                                                    \n",
       "\u001b[1;33m   \u001b[0m\u001b[1;33m   \u001b[0m\u001b[97;40mFirst error\u001b[0m                                                                            \n",
       "\u001b[1;33m   \u001b[0m\u001b[1;33m 1 \u001b[0m\u001b[97;40mSecond error\u001b[0m                                                                           \n"
      ]
     },
     "metadata": {},
     "output_type": "display_data"
    }
   ],
   "source": [
    "e1 = Err.make(\"First error\", context_info = 1, other_info = \"blub\")\n",
    "e2 = Err.make(\"Second error\", context_info = 1)\n",
    "e12 = Err.collect1(e1, e2)\n",
    "e12.pretty_print()"
   ]
  },
  {
   "cell_type": "markdown",
   "metadata": {},
   "source": [
    "A sequence of single errors can always be recovered:"
   ]
  },
  {
   "cell_type": "code",
   "execution_count": 3,
   "metadata": {},
   "outputs": [
    {
     "data": {
      "text/plain": [
       "[<configpile.userr.Err1 object at 0x7fe508a2a640>,\n",
       " <configpile.userr.Err1 object at 0x7fe508e90fa0>]"
      ]
     },
     "execution_count": 3,
     "metadata": {},
     "output_type": "execute_result"
    }
   ],
   "source": [
    "e12.errors()"
   ]
  },
  {
   "cell_type": "markdown",
   "metadata": {},
   "source": [
    "## Results\n",
    "\n",
    "The error type is designed to be used in functions that either return a valid value, or an error.\n",
    "Such functions return a result, or a {data}`configpile.userr.Res` type.\n",
    "\n",
    "Note that the {data}`configpile.userr.Res` type is parameterized by the valid value type:\n",
    "in the example below, it is {class}`int`.\n",
    "\n",
    "An example of such a function would be:"
   ]
  },
  {
   "cell_type": "code",
   "execution_count": 4,
   "metadata": {},
   "outputs": [],
   "source": [
    "from configpile.userr import Res\n",
    "\n",
    "def parse_int(s: str) -> Res[int]:\n",
    "    try:\n",
    "        return int(s)\n",
    "    except ValueError as e:\n",
    "        return Err.make(str(e))"
   ]
  },
  {
   "cell_type": "markdown",
   "metadata": {},
   "source": [
    "and would give the following results:"
   ]
  },
  {
   "cell_type": "code",
   "execution_count": 5,
   "metadata": {},
   "outputs": [
    {
     "data": {
      "text/plain": [
       "Err1(\"invalid literal for int() with base 10: 'invalid'\")"
      ]
     },
     "execution_count": 5,
     "metadata": {},
     "output_type": "execute_result"
    }
   ],
   "source": [
    "parse_int(\"invalid\")"
   ]
  },
  {
   "cell_type": "code",
   "execution_count": 6,
   "metadata": {},
   "outputs": [
    {
     "data": {
      "text/plain": [
       "1234"
      ]
     },
     "execution_count": 6,
     "metadata": {},
     "output_type": "execute_result"
    }
   ],
   "source": [
    "parse_int(1234)"
   ]
  },
  {
   "cell_type": "markdown",
   "metadata": {},
   "source": [
    "Results can be processed further. For example, the function that squares the value contained in a\n",
    "result, while leaving any error untouched, can be written:"
   ]
  },
  {
   "cell_type": "code",
   "execution_count": 7,
   "metadata": {},
   "outputs": [],
   "source": [
    "def square_result(res: Res[int]) -> Res[int]:\n",
    "    if isinstance(res, Err):\n",
    "        return res\n",
    "    return res*res"
   ]
  },
  {
   "cell_type": "markdown",
   "metadata": {},
   "source": [
    "... or, using the {func}`~configpile.userr.map` helper:"
   ]
  },
  {
   "cell_type": "code",
   "execution_count": 8,
   "metadata": {},
   "outputs": [],
   "source": [
    "from configpile import userr\n",
    "\n",
    "def square_result1(res: Res[int]) -> Res[int]:\n",
    "    return userr.map(lambda x: x*x, res)"
   ]
  },
  {
   "cell_type": "markdown",
   "metadata": {},
   "source": [
    "and we have, unsurprisingly:"
   ]
  },
  {
   "cell_type": "code",
   "execution_count": 9,
   "metadata": {},
   "outputs": [
    {
     "data": {
      "text/plain": [
       "Err1(\"invalid literal for int() with base 10: 'invalid'\")"
      ]
     },
     "execution_count": 9,
     "metadata": {},
     "output_type": "execute_result"
    }
   ],
   "source": [
    "square_result(parse_int(\"invalid\"))"
   ]
  },
  {
   "cell_type": "code",
   "execution_count": 10,
   "metadata": {},
   "outputs": [
    {
     "data": {
      "text/plain": [
       "16"
      ]
     },
     "execution_count": 10,
     "metadata": {},
     "output_type": "execute_result"
    }
   ],
   "source": [
    "square_result1(parse_int(4))"
   ]
  },
  {
   "cell_type": "markdown",
   "metadata": {},
   "source": [
    "The {func}`~configpile.userr.flat_map` function is useful to chain processing where each step can fail."
   ]
  },
  {
   "cell_type": "code",
   "execution_count": 27,
   "metadata": {},
   "outputs": [],
   "source": [
    "import math\n",
    "\n",
    "def square_root(x: int) -> Res[float]:\n",
    "    if x < 0:\n",
    "        return Err.make(f\"Cannot take square root of negative number {x}\")\n",
    "    else:\n",
    "        return math.sqrt(float(x))"
   ]
  },
  {
   "cell_type": "code",
   "execution_count": 28,
   "metadata": {},
   "outputs": [
    {
     "data": {
      "text/plain": [
       "Err1(\"invalid literal for int() with base 10: 'valid'\")"
      ]
     },
     "execution_count": 28,
     "metadata": {},
     "output_type": "execute_result"
    }
   ],
   "source": [
    "userr.flat_map(square_root, parse_int(\"valid\"))"
   ]
  },
  {
   "cell_type": "code",
   "execution_count": 29,
   "metadata": {},
   "outputs": [
    {
     "data": {
      "text/plain": [
       "1.4142135623730951"
      ]
     },
     "execution_count": 29,
     "metadata": {},
     "output_type": "execute_result"
    }
   ],
   "source": [
    "userr.flat_map(square_root, parse_int(\"2\"))"
   ]
  },
  {
   "cell_type": "code",
   "execution_count": 31,
   "metadata": {},
   "outputs": [
    {
     "data": {
      "text/plain": [
       "Err1('Cannot take square root of negative number -2')"
      ]
     },
     "execution_count": 31,
     "metadata": {},
     "output_type": "execute_result"
    }
   ],
   "source": [
    "userr.flat_map(square_root, parse_int(\"-2\"))"
   ]
  },
  {
   "cell_type": "markdown",
   "metadata": {},
   "source": [
    "## Combining results and errors\n",
    "\n",
    "Finally, the {mod}`~configpile.userr` module offers ways to combine results.\n",
    "\n",
    "For example, if one parses several integers, one can collect the results in a tuple using the\n",
    "{func}`configpile.userr.collect` function."
   ]
  },
  {
   "cell_type": "code",
   "execution_count": 14,
   "metadata": {},
   "outputs": [
    {
     "data": {
      "text/plain": [
       "(2, 3)"
      ]
     },
     "execution_count": 14,
     "metadata": {},
     "output_type": "execute_result"
    }
   ],
   "source": [
    "userr.collect(parse_int(2), parse_int(3))"
   ]
  },
  {
   "cell_type": "code",
   "execution_count": 15,
   "metadata": {},
   "outputs": [
    {
     "data": {
      "text/plain": [
       "Err1(\"invalid literal for int() with base 10: 'invalid'\")"
      ]
     },
     "execution_count": 15,
     "metadata": {},
     "output_type": "execute_result"
    }
   ],
   "source": [
    "userr.collect(parse_int(3), parse_int(\"invalid\"))"
   ]
  },
  {
   "cell_type": "code",
   "execution_count": 16,
   "metadata": {},
   "outputs": [
    {
     "data": {
      "text/plain": [
       "ManyErr(errs=[Err1(\"invalid literal for int() with base 10: 'invalid'\"), Err1(\"invalid literal for int() with base 10: 'invalid'\")])"
      ]
     },
     "execution_count": 16,
     "metadata": {},
     "output_type": "execute_result"
    }
   ],
   "source": [
    "userr.collect(parse_int(\"invalid\"), parse_int(\"invalid\"))"
   ]
  },
  {
   "cell_type": "markdown",
   "metadata": {},
   "source": [
    "See also {func}`configpile.userr.collect_seq`  when dealing with sequences."
   ]
  },
  {
   "cell_type": "markdown",
   "metadata": {},
   "source": [
    "Errors can be collected and combined too. The {meth}`configpile.userr.Err.collect1` method expect \n",
    "at least one argument and returns an {class}`~configpile.userr.Err`, while \n",
    "{meth}`configpile.userr.Err.collect` can deal with no argument being passed, or with optional\n",
    "arguments.\n",
    "\n",
    "In particular, optional errors, of type `Optional[Err]`, are great for validation: a {data}`None`\n",
    "value indicates no error, while an error indicates that one or several problems are present."
   ]
  },
  {
   "cell_type": "code",
   "execution_count": 20,
   "metadata": {},
   "outputs": [
    {
     "data": {
      "text/plain": [
       "Err1('a must be positive')"
      ]
     },
     "execution_count": 20,
     "metadata": {},
     "output_type": "execute_result"
    }
   ],
   "source": [
    "from typing import Optional, Sequence\n",
    "a = -2\n",
    "b = 1\n",
    "check_a: Optional[Err] = Err.check(a > 0, \"a must be positive\")\n",
    "check_b: Optional[Err] = Err.check(b > 0, \"b must be positive\")\n",
    "Err.collect(check_a, check_b)"
   ]
  }
 ],
 "metadata": {
  "interpreter": {
   "hash": "8f30912e923a6c91d0bcaece9ec3dd94095a56fef041f6ae96f356e9f1af4c3e"
  },
  "kernelspec": {
   "display_name": "Python 3.8.10 ('.venv': poetry)",
   "language": "python",
   "name": "python3"
  },
  "language_info": {
   "codemirror_mode": {
    "name": "ipython",
    "version": 3
   },
   "file_extension": ".py",
   "mimetype": "text/x-python",
   "name": "python",
   "nbconvert_exporter": "python",
   "pygments_lexer": "ipython3",
   "version": "3.8.10"
  },
  "orig_nbformat": 4
 },
 "nbformat": 4,
 "nbformat_minor": 2
}
