{
 "cells": [
  {
   "cell_type": "markdown",
   "metadata": {},
   "source": [
    "(concepts:params)=\n",
    "# Params (parameters)"
   ]
  }
 ],
 "metadata": {
  "language_info": {
   "name": "python"
  },
  "orig_nbformat": 4
 },
 "nbformat": 4,
 "nbformat_minor": 2
}
